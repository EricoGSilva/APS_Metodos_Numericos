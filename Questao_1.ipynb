{
  "nbformat": 4,
  "nbformat_minor": 0,
  "metadata": {
    "colab": {
      "provenance": [],
      "authorship_tag": "ABX9TyMrN2bZC1zefBsC1DO5Rrk/",
      "include_colab_link": true
    },
    "kernelspec": {
      "name": "python3",
      "display_name": "Python 3"
    },
    "language_info": {
      "name": "python"
    }
  },
  "cells": [
    {
      "cell_type": "markdown",
      "metadata": {
        "id": "view-in-github",
        "colab_type": "text"
      },
      "source": [
        "<a href=\"https://colab.research.google.com/github/EricoGSilva/APS_Metodos_Numericos/blob/main/Questao_1.ipynb\" target=\"_parent\"><img src=\"https://colab.research.google.com/assets/colab-badge.svg\" alt=\"Open In Colab\"/></a>"
      ]
    },
    {
      "cell_type": "code",
      "execution_count": null,
      "metadata": {
        "colab": {
          "base_uri": "https://localhost:8080/"
        },
        "id": "b6DO5tfcXreA",
        "outputId": "5b371aca-6603-4021-ead4-73363f83f77e"
      },
      "outputs": [
        {
          "output_type": "stream",
          "name": "stdout",
          "text": [
            "Valor em binário:  111111111111101011101101101000010000\n"
          ]
        }
      ],
      "source": [
        "hexa = \"FFFAEDA10\"\n",
        "binario = bin(int(hexa, 16))[2:]\n",
        "\n",
        "print(\"Valor em binário: \", binario)"
      ]
    },
    {
      "cell_type": "code",
      "source": [
        "hexa = \"FFFAEDA10\"\n",
        "octal = oct(int(hexa, 16))[2:]\n",
        "\n",
        "print(\"Valor em octal: \", octal)"
      ],
      "metadata": {
        "colab": {
          "base_uri": "https://localhost:8080/"
        },
        "id": "_IYRQhYOYGir",
        "outputId": "2b324010-ecb7-42db-e2fc-502bfdc2f185"
      },
      "execution_count": null,
      "outputs": [
        {
          "output_type": "stream",
          "name": "stdout",
          "text": [
            "Valor em octal:  777753555020\n"
          ]
        }
      ]
    },
    {
      "cell_type": "code",
      "source": [
        "def hexa_para_hepta(hexa):\n",
        "    grupos = [hexa[i:i+3] for i in range(0, len(hexa), 3)]\n",
        "    binarios = [bin(int(grupo, 16))[2:].zfill(12) for grupo in grupos]\n",
        "    bits = ''.join(binarios)\n",
        "    hepta = ''\n",
        "    for i in range(0, len(bits), 7):\n",
        "        hepta += hex(int(bits[i:i+7], 2))[2:]\n",
        "    return hepta\n",
        "\n",
        "hexa = \"FFFAEDA10\"\n",
        "hepta = hexa_para_hepta(hexa)\n",
        "\n",
        "print(\"Valor em heptadecimal: \", hepta)\n",
        "\n"
      ],
      "metadata": {
        "colab": {
          "base_uri": "https://localhost:8080/"
        },
        "id": "GAqVRieXcPWR",
        "outputId": "8ca1f855-674d-4795-cb7c-c3b8c35ac690"
      },
      "execution_count": null,
      "outputs": [
        {
          "output_type": "stream",
          "name": "stdout",
          "text": [
            "Valor em heptadecimal:  7f7e5d5a80\n"
          ]
        }
      ]
    },
    {
      "cell_type": "code",
      "source": [
        "hex_num = 'FFFAEDA10'\n",
        "dec_num = int(hex_num, 16)\n",
        "hept_num = ''\n",
        "while dec_num > 0:\n",
        "    dec_num, remainder = divmod(dec_num, 7)\n",
        "    hept_num = str(remainder) + hept_num\n",
        "print(hept_num)"
      ],
      "metadata": {
        "id": "7Hj8s6PVdcvS",
        "outputId": "44347971-1719-42d4-892b-85b1e62d0fa0",
        "colab": {
          "base_uri": "https://localhost:8080/"
        }
      },
      "execution_count": null,
      "outputs": [
        {
          "output_type": "stream",
          "name": "stdout",
          "text": [
            "4651541465634\n"
          ]
        }
      ]
    }
  ]
}