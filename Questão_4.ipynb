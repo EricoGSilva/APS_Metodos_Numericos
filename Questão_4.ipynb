{
  "nbformat": 4,
  "nbformat_minor": 0,
  "metadata": {
    "colab": {
      "provenance": [],
      "authorship_tag": "ABX9TyM8spNfi2VW5OdhMvwkeH/S",
      "include_colab_link": true
    },
    "kernelspec": {
      "name": "python3",
      "display_name": "Python 3"
    },
    "language_info": {
      "name": "python"
    }
  },
  "cells": [
    {
      "cell_type": "markdown",
      "metadata": {
        "id": "view-in-github",
        "colab_type": "text"
      },
      "source": [
        "<a href=\"https://colab.research.google.com/github/EricoGSilva/APS_Metodos_Numericos/blob/main/Quest%C3%A3o_4.ipynb\" target=\"_parent\"><img src=\"https://colab.research.google.com/assets/colab-badge.svg\" alt=\"Open In Colab\"/></a>"
      ]
    },
    {
      "cell_type": "code",
      "execution_count": null,
      "metadata": {
        "id": "sOx1SdRrXZ-0",
        "outputId": "f11e9550-e97e-4016-a487-3272dd2be204",
        "colab": {
          "base_uri": "https://localhost:8080/"
        }
      },
      "outputs": [
        {
          "output_type": "stream",
          "name": "stdout",
          "text": [
            "Autovalores:  [14.35631335 -1.47439425  3.11808089]\n",
            "Autovetores:  [[-0.49765377 -0.71770766 -0.05354039]\n",
            " [-0.58529731 -0.39690103 -0.96038303]\n",
            " [-0.64013107  0.57215844  0.27349199]]\n"
          ]
        }
      ],
      "source": [
        "import numpy as np\n",
        "\n",
        "A = np.array([[3, 2, 7], [2, 5, 7], [7, 1, 8]])\n",
        "\n",
        "autovalores, autovetores = np.linalg.eig(A)\n",
        "\n",
        "print(\"Autovalores: \", autovalores)\n",
        "print(\"Autovetores: \", autovetores)\n"
      ]
    },
    {
      "cell_type": "code",
      "source": [
        "import numpy as np\n",
        "\n",
        "A = np.array([[3, 2, 7], [2, 5, 7], [7, 1, 8]])\n",
        "\n",
        "U, s, Vt = np.linalg.svd(A)\n",
        "\n",
        "print(\"Matriz U: \", U)\n",
        "print(\"Matriz S: \", s)\n",
        "print(\"Matriz V transposta: \", Vt)"
      ],
      "metadata": {
        "id": "oDXf9gekXj8z",
        "outputId": "76158a54-3629-4459-ee77-1d6d9db045b0",
        "colab": {
          "base_uri": "https://localhost:8080/"
        }
      },
      "execution_count": null,
      "outputs": [
        {
          "output_type": "stream",
          "name": "stdout",
          "text": [
            "Matriz U:  [[-0.51122121 -0.08505854 -0.85522975]\n",
            " [-0.53607734 -0.74623202  0.39466297]\n",
            " [-0.67176928  0.66022937  0.33589168]]\n",
            "Matriz S:  [15.29608356  4.36493456  0.98852112]\n",
            "Matriz V transposta:  [[-0.47778264 -0.28599467 -0.83062073]\n",
            " [ 0.6584213  -0.74251922 -0.12307149]\n",
            " [ 0.58155407  0.6056998  -0.54306778]]\n"
          ]
        }
      ]
    }
  ]
}